{
 "cells": [
  {
   "cell_type": "markdown",
   "metadata": {},
   "source": [
    "## Imports"
   ]
  },
  {
   "cell_type": "code",
   "execution_count": 129,
   "metadata": {},
   "outputs": [],
   "source": [
    "import pandas as pd\n",
    "import numpy as np\n",
    "import cvxpy as cp\n",
    "\n",
    "import keras\n",
    "from keras.models import Sequential\n",
    "from keras.layers import Dense, SimpleRNN\n",
    "from keras import saving\n",
    "#Tensor Flow\n",
    "import tensorflow as tf\n",
    "from keras.layers import *\n",
    "from keras.models import *\n",
    "from keras import backend as K"
   ]
  },
  {
   "cell_type": "markdown",
   "metadata": {},
   "source": [
    "## Load Data"
   ]
  },
  {
   "cell_type": "code",
   "execution_count": 160,
   "metadata": {},
   "outputs": [],
   "source": [
    "# Load Training Portfolio Data\n",
    "train_series = \"synthetic1000\"\n",
    "train_date = \"2016-01-10\"\n",
    "\n",
    "# load portfolio mu's\n",
    "df_train_mu = pd.read_csv(f'{train_series}\\{train_date}\\mu', header = None, names = ['mu'])\n",
    "# load portfolio Q's\n",
    "df_train_Q=pd.read_fwf(f'{train_series}\\{train_date}\\Q', header = None)\n",
    "\n",
    "\n",
    "# Load Testing Portfolio Data\n",
    "test_series = \"synthetic1000\"\n",
    "test_date = \"2016-02-21\"\n",
    "\n",
    "# load portfolio mu's\n",
    "df_test_mu = pd.read_csv(f'{test_series}\\{test_date}\\mu', header = None, names = ['mu'])\n",
    "# load portfolio Q's\n",
    "df_test_Q=pd.read_fwf(f'{test_series}\\{test_date}\\Q', header = None)\n"
   ]
  },
  {
   "cell_type": "markdown",
   "metadata": {},
   "source": [
    "## Constants"
   ]
  },
  {
   "cell_type": "code",
   "execution_count": 240,
   "metadata": {},
   "outputs": [],
   "source": [
    "# portfolio cardinality\n",
    "cardinality = 50\n",
    "\n",
    "# training data size\n",
    "n_training_portfolios = 500\n",
    "# testing data size\n",
    "n_testing_portfolios = 500\n",
    "\n",
    "\n",
    "# ANN training epochs\n",
    "EPOCH=1000\n",
    "# ANN training batch size\n",
    "BATCH_SIZE=1"
   ]
  },
  {
   "cell_type": "markdown",
   "metadata": {},
   "source": [
    "## Solve the Maximum Portfolio Returns"
   ]
  },
  {
   "cell_type": "code",
   "execution_count": null,
   "metadata": {},
   "outputs": [],
   "source": [
    "# def max_portfolio_return(n, mu):\n",
    "#     '''\n",
    "#     Params\n",
    "#     n = total stocks in current portfolio plus the one stock selected by ANN\n",
    "#     mu = array of mu values in current portfolio plus the mu of selected stock\n",
    "\n",
    "#     Returns\n",
    "#     Max portfolio returns of new portfolio according mvo weights\n",
    "#     '''\n",
    " \n",
    "#     # Create optimization variable for weights of stocks in portfolio\n",
    "#     w = cp.Variable(n)\n",
    "\n",
    "#     # Define Markowitz constraints\n",
    "#     constraints2 = [sum(w) == 1, w >= 0]\n",
    "#     prob_max_returns = cp.Problem(cp.Maximize(mu.T@w), constraints2)\n",
    "                    \n",
    "#     # Solve the optimization\n",
    "#     return prob_max_returns.solve(verbose=False)"
   ]
  },
  {
   "cell_type": "code",
   "execution_count": 202,
   "metadata": {},
   "outputs": [],
   "source": [
    "def max_portfolio_return(n, mu, Q, gamma = 1):\n",
    "    '''\n",
    "    Params\n",
    "    n = total stocks in current portfolio plus the one stock selected by ANN\n",
    "    mu = array of mu values in current portfolio plus the mu of selected stock\n",
    "\n",
    "    Returns\n",
    "    Max portfolio returns of new portfolio according mvo weights\n",
    "    '''\n",
    " \n",
    "    # Create optimization variable for weights of stocks in portfolio\n",
    "    w = cp.Variable(n)\n",
    "\n",
    "    # Define Markowitz constraints\n",
    "    constraints = [sum(w) == 1, w >= 0]\n",
    "    # prob_max_returns = cp.Problem(cp.Maximize(mu.T@w), constraints)\n",
    "    risk_weighted_returns = cp.Problem(cp.Maximize((gamma*mu.T@w) - cp.quad_form(w,Q)), constraints)\n",
    "                    \n",
    "    # Solve the optimization\n",
    "    return risk_weighted_returns.solve(verbose=False)"
   ]
  },
  {
   "cell_type": "markdown",
   "metadata": {},
   "source": [
    "## Initialize Training and Testing Portfolios"
   ]
  },
  {
   "cell_type": "markdown",
   "metadata": {},
   "source": [
    "We can initialize portfolios randomly that are less than the cardinality constraint"
   ]
  },
  {
   "cell_type": "code",
   "execution_count": 207,
   "metadata": {},
   "outputs": [
    {
     "name": "stderr",
     "output_type": "stream",
     "text": [
      "C:\\Users\\stefa\\AppData\\Local\\Temp\\ipykernel_84576\\3004209276.py:14: FutureWarning: Calling float on a single element Series is deprecated and will raise a TypeError in the future. Use float(ser.iloc[0]) instead\n",
      "  stock_mu[i] = df_init_mu.loc[index_i]\n",
      "C:\\Users\\stefa\\AppData\\Local\\Temp\\ipykernel_84576\\3004209276.py:41: FutureWarning: Calling float on a single element Series is deprecated and will raise a TypeError in the future. Use float(ser.iloc[0]) instead\n",
      "  stock_mu[i] = df_init_mu.loc[index_i]\n"
     ]
    }
   ],
   "source": [
    "# Initialize Training Portfolios\n",
    "training_portfolios = []\n",
    "for n in range(n_training_portfolios):\n",
    "\n",
    "    # Total stocks in training batch: (1 prediction stock + initial portfolio stocks)\n",
    "    n_stocks = int(np.random.rand(1)[0]*cardinality + 1)\n",
    "    \n",
    "    # Select stocks from synthetic database to initialize prediction stock + portfolio\n",
    "    stock_indices=np.random.choice((len(df_train_mu)-1), n_stocks, replace=False)\n",
    "\n",
    "    # Store mu portfolio\n",
    "    stock_mu = np.zeros(cardinality)\n",
    "    for i, index_i in enumerate(stock_indices):\n",
    "        stock_mu[i] = df_init_mu.loc[index_i]\n",
    "    \n",
    "    \n",
    "    # Store Q portfolio\n",
    "    stock_Q = np.zeros((cardinality, cardinality))\n",
    "    for i,index_i in enumerate(stock_indices):\n",
    "        for j,index_j in enumerate(stock_indices):\n",
    "            stock_Q[i][j] = df_train_Q.iloc[index_i,index_j]\n",
    "\n",
    "    temp_portfolio = [stock_mu,stock_Q]\n",
    "\n",
    "    # build training portfolios\n",
    "    training_portfolios.append(temp_portfolio)  \n",
    "\n",
    "# Initialize Testing Portfolios\n",
    "testing_portfolios = []\n",
    "for n in range(n_testing_portfolios):\n",
    "\n",
    "    # Total stocks in training batch: (1 prediction stock + initial portfolio stocks)\n",
    "    n_stocks = int(np.random.rand(1)[0]*cardinality + 1)\n",
    "    \n",
    "    # Select stocks from synthetic database to initialize prediction stock + portfolio\n",
    "    stock_indices=np.random.choice((len(df_test_mu)-1), n_stocks, replace=False)\n",
    "\n",
    "    # Store mu portfolio\n",
    "    stock_mu = np.zeros(cardinality)\n",
    "    for i, index_i in enumerate(stock_indices):\n",
    "        stock_mu[i] = df_init_mu.loc[index_i]\n",
    "    \n",
    "    \n",
    "    # Store Q portfolio\n",
    "    stock_Q = np.zeros((cardinality, cardinality))\n",
    "    for i,index_i in enumerate(stock_indices):\n",
    "        for j,index_j in enumerate(stock_indices):\n",
    "            stock_Q[i][j] = df_test_Q.iloc[index_i,index_j]\n",
    "\n",
    "    temp_portfolio = [stock_mu,stock_Q]\n",
    "\n",
    "    # build training portfolios\n",
    "    testing_portfolios.append(temp_portfolio) "
   ]
  },
  {
   "cell_type": "markdown",
   "metadata": {},
   "source": [
    "## ANN"
   ]
  },
  {
   "cell_type": "code",
   "execution_count": 242,
   "metadata": {},
   "outputs": [],
   "source": [
    "def get_ann_model(input_shape):    \n",
    "    # Deep stacked MLP with dropout\n",
    "    model = keras.models.Sequential([\n",
    "        keras.layers.Input(shape=input_shape),\n",
    "        # keras.layers.Flatten(input_shape=input_shape),\n",
    "        keras.layers.Dense(1024, kernel_initializer='normal', activation='relu',\n",
    "                           kernel_regularizer= keras.regularizers.L1L2(l1=0.01, l2=0.01)),\n",
    "        keras.layers.Dense(512, kernel_initializer='normal', activation='relu'),\n",
    "        keras.layers.Dropout(0.1),\n",
    "        keras.layers.Dense(256, kernel_initializer='normal', activation='relu',\n",
    "                           kernel_regularizer= keras.regularizers.L1L2(l1=0.01, l2=0.01)),\n",
    "        keras.layers.Dropout(0.1),\n",
    "        keras.layers.Dense(128,kernel_initializer='normal', activation='relu'),\n",
    "        keras.layers.Dense(64,kernel_initializer='normal', activation='relu'),\n",
    "        keras.layers.Dense(32,kernel_initializer='normal', activation='relu'),\n",
    "        keras.layers.Dense(1, activation='relu'),\n",
    "    ])\n",
    "    model.compile(\n",
    "        optimizer=\"adam\",\n",
    "        loss=\"mse\",\n",
    "        metrics=[keras.metrics.RootMeanSquaredError()],\n",
    "    )\n",
    "    return model"
   ]
  },
  {
   "cell_type": "markdown",
   "metadata": {},
   "source": [
    "## Train ANN"
   ]
  },
  {
   "cell_type": "markdown",
   "metadata": {},
   "source": [
    "Every unique initialized portfolio can be thought of as a separate problem to learn. In order for the ANN to have sufficient training exposure to learn the portolio combinations, we can train 10 different stocks for each 500 portfolios.\n",
    "\n",
    "\n",
    "The maximum portfolio returns porblem is a regression problem. Given a randomly chosen stock, the ANN will take in the current portfolio mu vector, the covariance matrix, and the selected stock and try and predict the new maximum portfolio returns of the blended portfolio.\n",
    "\n",
    "After training the ANN, we can loop through all the possible stocks, predict the new maximum portfolio returns of introducing that stock, and each iteration, select the highest performing stock until cardinality is reached."
   ]
  },
  {
   "cell_type": "code",
   "execution_count": 245,
   "metadata": {},
   "outputs": [
    {
     "name": "stdout",
     "output_type": "stream",
     "text": [
      "-----Training RNN Model-----\n",
      "Epoch 1/1000\n",
      "500/500 [==============================] - 20s 37ms/step - loss: 90.1911 - root_mean_squared_error: 3.2032\n",
      "Epoch 2/1000\n",
      "500/500 [==============================] - 19s 39ms/step - loss: 13.6289 - root_mean_squared_error: 3.2032\n",
      "Epoch 3/1000\n",
      "500/500 [==============================] - 19s 38ms/step - loss: 13.6182 - root_mean_squared_error: 3.2032\n",
      "Epoch 4/1000\n",
      "500/500 [==============================] - 18s 36ms/step - loss: 13.6283 - root_mean_squared_error: 3.2032\n",
      "Epoch 5/1000\n",
      "500/500 [==============================] - 18s 37ms/step - loss: 13.6974 - root_mean_squared_error: 3.2032\n",
      "Epoch 6/1000\n",
      "500/500 [==============================] - 19s 38ms/step - loss: 13.7251 - root_mean_squared_error: 3.2032\n",
      "Epoch 7/1000\n",
      "500/500 [==============================] - 18s 37ms/step - loss: 13.7278 - root_mean_squared_error: 3.2032\n",
      "Epoch 8/1000\n",
      "500/500 [==============================] - 18s 36ms/step - loss: 13.7303 - root_mean_squared_error: 3.2032\n",
      "Epoch 9/1000\n",
      "500/500 [==============================] - 18s 36ms/step - loss: 13.7307 - root_mean_squared_error: 3.2032\n",
      "Epoch 10/1000\n",
      "500/500 [==============================] - 18s 36ms/step - loss: 13.7308 - root_mean_squared_error: 3.2032\n",
      "Epoch 11/1000\n",
      "500/500 [==============================] - 19s 38ms/step - loss: 13.7308 - root_mean_squared_error: 3.2032\n",
      "Epoch 12/1000\n",
      "500/500 [==============================] - 19s 38ms/step - loss: 13.7307 - root_mean_squared_error: 3.2032\n",
      "Epoch 13/1000\n",
      "500/500 [==============================] - 19s 38ms/step - loss: 13.7309 - root_mean_squared_error: 3.2032\n",
      "Epoch 14/1000\n",
      "500/500 [==============================] - 19s 37ms/step - loss: 13.7308 - root_mean_squared_error: 3.2032\n",
      "Epoch 15/1000\n",
      "500/500 [==============================] - 18s 36ms/step - loss: 13.7309 - root_mean_squared_error: 3.2032\n",
      "Epoch 16/1000\n",
      "500/500 [==============================] - 18s 36ms/step - loss: 13.7309 - root_mean_squared_error: 3.2032\n",
      "Epoch 17/1000\n",
      "500/500 [==============================] - 18s 37ms/step - loss: 13.7308 - root_mean_squared_error: 3.2032\n",
      "Epoch 18/1000\n",
      "500/500 [==============================] - 18s 37ms/step - loss: 13.7309 - root_mean_squared_error: 3.2032\n",
      "Epoch 19/1000\n",
      "500/500 [==============================] - 18s 37ms/step - loss: 13.7309 - root_mean_squared_error: 3.2032\n",
      "Epoch 20/1000\n",
      "500/500 [==============================] - 18s 37ms/step - loss: 13.7308 - root_mean_squared_error: 3.2032\n",
      "Epoch 21/1000\n",
      "500/500 [==============================] - 18s 37ms/step - loss: 13.7308 - root_mean_squared_error: 3.2032\n",
      "Epoch 22/1000\n",
      "258/500 [==============>...............] - ETA: 9s - loss: 15.6936 - root_mean_squared_error: 3.4961"
     ]
    },
    {
     "ename": "KeyboardInterrupt",
     "evalue": "",
     "output_type": "error",
     "traceback": [
      "\u001b[1;31m---------------------------------------------------------------------------\u001b[0m",
      "\u001b[1;31mKeyboardInterrupt\u001b[0m                         Traceback (most recent call last)",
      "\u001b[1;32mc:\\Users\\stefa\\source\\MIE1666H\\rl-ccmvo\\Data\\App.ipynb Cell 18\u001b[0m line \u001b[0;36m6\n\u001b[0;32m     <a href='vscode-notebook-cell:/c%3A/Users/stefa/source/MIE1666H/rl-ccmvo/Data/App.ipynb#X21sZmlsZQ%3D%3D?line=64'>65</a>\u001b[0m model_ANN \u001b[39m=\u001b[39m get_ann_model(input_shape)\n\u001b[0;32m     <a href='vscode-notebook-cell:/c%3A/Users/stefa/source/MIE1666H/rl-ccmvo/Data/App.ipynb#X21sZmlsZQ%3D%3D?line=66'>67</a>\u001b[0m \u001b[39mprint\u001b[39m(\u001b[39m'\u001b[39m\u001b[39m-----Training RNN Model-----\u001b[39m\u001b[39m'\u001b[39m)\n\u001b[1;32m---> <a href='vscode-notebook-cell:/c%3A/Users/stefa/source/MIE1666H/rl-ccmvo/Data/App.ipynb#X21sZmlsZQ%3D%3D?line=67'>68</a>\u001b[0m rnn_history \u001b[39m=\u001b[39m model_ANN\u001b[39m.\u001b[39;49mfit(df_train, train_targets,  \n\u001b[0;32m     <a href='vscode-notebook-cell:/c%3A/Users/stefa/source/MIE1666H/rl-ccmvo/Data/App.ipynb#X21sZmlsZQ%3D%3D?line=68'>69</a>\u001b[0m                             epochs\u001b[39m=\u001b[39;49mEPOCH, batch_size\u001b[39m=\u001b[39;49mBATCH_SIZE) \n\u001b[0;32m     <a href='vscode-notebook-cell:/c%3A/Users/stefa/source/MIE1666H/rl-ccmvo/Data/App.ipynb#X21sZmlsZQ%3D%3D?line=69'>70</a>\u001b[0m                             \u001b[39m#callbacks=[lr, es,mc_rnn])      # Can put callbacks in later\u001b[39;00m\n",
      "File \u001b[1;32mc:\\Users\\stefa\\AppData\\Local\\Programs\\Python\\Python311\\Lib\\site-packages\\keras\\src\\utils\\traceback_utils.py:65\u001b[0m, in \u001b[0;36mfilter_traceback.<locals>.error_handler\u001b[1;34m(*args, **kwargs)\u001b[0m\n\u001b[0;32m     63\u001b[0m filtered_tb \u001b[39m=\u001b[39m \u001b[39mNone\u001b[39;00m\n\u001b[0;32m     64\u001b[0m \u001b[39mtry\u001b[39;00m:\n\u001b[1;32m---> 65\u001b[0m     \u001b[39mreturn\u001b[39;00m fn(\u001b[39m*\u001b[39;49margs, \u001b[39m*\u001b[39;49m\u001b[39m*\u001b[39;49mkwargs)\n\u001b[0;32m     66\u001b[0m \u001b[39mexcept\u001b[39;00m \u001b[39mException\u001b[39;00m \u001b[39mas\u001b[39;00m e:\n\u001b[0;32m     67\u001b[0m     filtered_tb \u001b[39m=\u001b[39m _process_traceback_frames(e\u001b[39m.\u001b[39m__traceback__)\n",
      "File \u001b[1;32mc:\\Users\\stefa\\AppData\\Local\\Programs\\Python\\Python311\\Lib\\site-packages\\keras\\src\\engine\\training.py:1783\u001b[0m, in \u001b[0;36mModel.fit\u001b[1;34m(self, x, y, batch_size, epochs, verbose, callbacks, validation_split, validation_data, shuffle, class_weight, sample_weight, initial_epoch, steps_per_epoch, validation_steps, validation_batch_size, validation_freq, max_queue_size, workers, use_multiprocessing)\u001b[0m\n\u001b[0;32m   1775\u001b[0m \u001b[39mwith\u001b[39;00m tf\u001b[39m.\u001b[39mprofiler\u001b[39m.\u001b[39mexperimental\u001b[39m.\u001b[39mTrace(\n\u001b[0;32m   1776\u001b[0m     \u001b[39m\"\u001b[39m\u001b[39mtrain\u001b[39m\u001b[39m\"\u001b[39m,\n\u001b[0;32m   1777\u001b[0m     epoch_num\u001b[39m=\u001b[39mepoch,\n\u001b[1;32m   (...)\u001b[0m\n\u001b[0;32m   1780\u001b[0m     _r\u001b[39m=\u001b[39m\u001b[39m1\u001b[39m,\n\u001b[0;32m   1781\u001b[0m ):\n\u001b[0;32m   1782\u001b[0m     callbacks\u001b[39m.\u001b[39mon_train_batch_begin(step)\n\u001b[1;32m-> 1783\u001b[0m     tmp_logs \u001b[39m=\u001b[39m \u001b[39mself\u001b[39;49m\u001b[39m.\u001b[39;49mtrain_function(iterator)\n\u001b[0;32m   1784\u001b[0m     \u001b[39mif\u001b[39;00m data_handler\u001b[39m.\u001b[39mshould_sync:\n\u001b[0;32m   1785\u001b[0m         context\u001b[39m.\u001b[39masync_wait()\n",
      "File \u001b[1;32mc:\\Users\\stefa\\AppData\\Local\\Programs\\Python\\Python311\\Lib\\site-packages\\tensorflow\\python\\util\\traceback_utils.py:150\u001b[0m, in \u001b[0;36mfilter_traceback.<locals>.error_handler\u001b[1;34m(*args, **kwargs)\u001b[0m\n\u001b[0;32m    148\u001b[0m filtered_tb \u001b[39m=\u001b[39m \u001b[39mNone\u001b[39;00m\n\u001b[0;32m    149\u001b[0m \u001b[39mtry\u001b[39;00m:\n\u001b[1;32m--> 150\u001b[0m   \u001b[39mreturn\u001b[39;00m fn(\u001b[39m*\u001b[39;49margs, \u001b[39m*\u001b[39;49m\u001b[39m*\u001b[39;49mkwargs)\n\u001b[0;32m    151\u001b[0m \u001b[39mexcept\u001b[39;00m \u001b[39mException\u001b[39;00m \u001b[39mas\u001b[39;00m e:\n\u001b[0;32m    152\u001b[0m   filtered_tb \u001b[39m=\u001b[39m _process_traceback_frames(e\u001b[39m.\u001b[39m__traceback__)\n",
      "File \u001b[1;32mc:\\Users\\stefa\\AppData\\Local\\Programs\\Python\\Python311\\Lib\\site-packages\\tensorflow\\python\\eager\\polymorphic_function\\polymorphic_function.py:831\u001b[0m, in \u001b[0;36mFunction.__call__\u001b[1;34m(self, *args, **kwds)\u001b[0m\n\u001b[0;32m    828\u001b[0m compiler \u001b[39m=\u001b[39m \u001b[39m\"\u001b[39m\u001b[39mxla\u001b[39m\u001b[39m\"\u001b[39m \u001b[39mif\u001b[39;00m \u001b[39mself\u001b[39m\u001b[39m.\u001b[39m_jit_compile \u001b[39melse\u001b[39;00m \u001b[39m\"\u001b[39m\u001b[39mnonXla\u001b[39m\u001b[39m\"\u001b[39m\n\u001b[0;32m    830\u001b[0m \u001b[39mwith\u001b[39;00m OptionalXlaContext(\u001b[39mself\u001b[39m\u001b[39m.\u001b[39m_jit_compile):\n\u001b[1;32m--> 831\u001b[0m   result \u001b[39m=\u001b[39m \u001b[39mself\u001b[39;49m\u001b[39m.\u001b[39;49m_call(\u001b[39m*\u001b[39;49margs, \u001b[39m*\u001b[39;49m\u001b[39m*\u001b[39;49mkwds)\n\u001b[0;32m    833\u001b[0m new_tracing_count \u001b[39m=\u001b[39m \u001b[39mself\u001b[39m\u001b[39m.\u001b[39mexperimental_get_tracing_count()\n\u001b[0;32m    834\u001b[0m without_tracing \u001b[39m=\u001b[39m (tracing_count \u001b[39m==\u001b[39m new_tracing_count)\n",
      "File \u001b[1;32mc:\\Users\\stefa\\AppData\\Local\\Programs\\Python\\Python311\\Lib\\site-packages\\tensorflow\\python\\eager\\polymorphic_function\\polymorphic_function.py:867\u001b[0m, in \u001b[0;36mFunction._call\u001b[1;34m(self, *args, **kwds)\u001b[0m\n\u001b[0;32m    864\u001b[0m   \u001b[39mself\u001b[39m\u001b[39m.\u001b[39m_lock\u001b[39m.\u001b[39mrelease()\n\u001b[0;32m    865\u001b[0m   \u001b[39m# In this case we have created variables on the first call, so we run the\u001b[39;00m\n\u001b[0;32m    866\u001b[0m   \u001b[39m# defunned version which is guaranteed to never create variables.\u001b[39;00m\n\u001b[1;32m--> 867\u001b[0m   \u001b[39mreturn\u001b[39;00m tracing_compilation\u001b[39m.\u001b[39;49mcall_function(\n\u001b[0;32m    868\u001b[0m       args, kwds, \u001b[39mself\u001b[39;49m\u001b[39m.\u001b[39;49m_no_variable_creation_config\n\u001b[0;32m    869\u001b[0m   )\n\u001b[0;32m    870\u001b[0m \u001b[39melif\u001b[39;00m \u001b[39mself\u001b[39m\u001b[39m.\u001b[39m_variable_creation_config \u001b[39mis\u001b[39;00m \u001b[39mnot\u001b[39;00m \u001b[39mNone\u001b[39;00m:\n\u001b[0;32m    871\u001b[0m   \u001b[39m# Release the lock early so that multiple threads can perform the call\u001b[39;00m\n\u001b[0;32m    872\u001b[0m   \u001b[39m# in parallel.\u001b[39;00m\n\u001b[0;32m    873\u001b[0m   \u001b[39mself\u001b[39m\u001b[39m.\u001b[39m_lock\u001b[39m.\u001b[39mrelease()\n",
      "File \u001b[1;32mc:\\Users\\stefa\\AppData\\Local\\Programs\\Python\\Python311\\Lib\\site-packages\\tensorflow\\python\\eager\\polymorphic_function\\tracing_compilation.py:139\u001b[0m, in \u001b[0;36mcall_function\u001b[1;34m(args, kwargs, tracing_options)\u001b[0m\n\u001b[0;32m    137\u001b[0m bound_args \u001b[39m=\u001b[39m function\u001b[39m.\u001b[39mfunction_type\u001b[39m.\u001b[39mbind(\u001b[39m*\u001b[39margs, \u001b[39m*\u001b[39m\u001b[39m*\u001b[39mkwargs)\n\u001b[0;32m    138\u001b[0m flat_inputs \u001b[39m=\u001b[39m function\u001b[39m.\u001b[39mfunction_type\u001b[39m.\u001b[39munpack_inputs(bound_args)\n\u001b[1;32m--> 139\u001b[0m \u001b[39mreturn\u001b[39;00m function\u001b[39m.\u001b[39;49m_call_flat(  \u001b[39m# pylint: disable=protected-access\u001b[39;49;00m\n\u001b[0;32m    140\u001b[0m     flat_inputs, captured_inputs\u001b[39m=\u001b[39;49mfunction\u001b[39m.\u001b[39;49mcaptured_inputs\n\u001b[0;32m    141\u001b[0m )\n",
      "File \u001b[1;32mc:\\Users\\stefa\\AppData\\Local\\Programs\\Python\\Python311\\Lib\\site-packages\\tensorflow\\python\\eager\\polymorphic_function\\concrete_function.py:1264\u001b[0m, in \u001b[0;36mConcreteFunction._call_flat\u001b[1;34m(self, tensor_inputs, captured_inputs)\u001b[0m\n\u001b[0;32m   1260\u001b[0m possible_gradient_type \u001b[39m=\u001b[39m gradients_util\u001b[39m.\u001b[39mPossibleTapeGradientTypes(args)\n\u001b[0;32m   1261\u001b[0m \u001b[39mif\u001b[39;00m (possible_gradient_type \u001b[39m==\u001b[39m gradients_util\u001b[39m.\u001b[39mPOSSIBLE_GRADIENT_TYPES_NONE\n\u001b[0;32m   1262\u001b[0m     \u001b[39mand\u001b[39;00m executing_eagerly):\n\u001b[0;32m   1263\u001b[0m   \u001b[39m# No tape is watching; skip to running the function.\u001b[39;00m\n\u001b[1;32m-> 1264\u001b[0m   \u001b[39mreturn\u001b[39;00m \u001b[39mself\u001b[39;49m\u001b[39m.\u001b[39;49m_inference_function\u001b[39m.\u001b[39;49mflat_call(args)\n\u001b[0;32m   1265\u001b[0m forward_backward \u001b[39m=\u001b[39m \u001b[39mself\u001b[39m\u001b[39m.\u001b[39m_select_forward_and_backward_functions(\n\u001b[0;32m   1266\u001b[0m     args,\n\u001b[0;32m   1267\u001b[0m     possible_gradient_type,\n\u001b[0;32m   1268\u001b[0m     executing_eagerly)\n\u001b[0;32m   1269\u001b[0m forward_function, args_with_tangents \u001b[39m=\u001b[39m forward_backward\u001b[39m.\u001b[39mforward()\n",
      "File \u001b[1;32mc:\\Users\\stefa\\AppData\\Local\\Programs\\Python\\Python311\\Lib\\site-packages\\tensorflow\\python\\eager\\polymorphic_function\\atomic_function.py:217\u001b[0m, in \u001b[0;36mAtomicFunction.flat_call\u001b[1;34m(self, args)\u001b[0m\n\u001b[0;32m    215\u001b[0m \u001b[39mdef\u001b[39;00m \u001b[39mflat_call\u001b[39m(\u001b[39mself\u001b[39m, args: Sequence[core\u001b[39m.\u001b[39mTensor]) \u001b[39m-\u001b[39m\u001b[39m>\u001b[39m Any:\n\u001b[0;32m    216\u001b[0m \u001b[39m  \u001b[39m\u001b[39m\"\"\"Calls with tensor inputs and returns the structured output.\"\"\"\u001b[39;00m\n\u001b[1;32m--> 217\u001b[0m   flat_outputs \u001b[39m=\u001b[39m \u001b[39mself\u001b[39;49m(\u001b[39m*\u001b[39;49margs)\n\u001b[0;32m    218\u001b[0m   \u001b[39mreturn\u001b[39;00m \u001b[39mself\u001b[39m\u001b[39m.\u001b[39mfunction_type\u001b[39m.\u001b[39mpack_output(flat_outputs)\n",
      "File \u001b[1;32mc:\\Users\\stefa\\AppData\\Local\\Programs\\Python\\Python311\\Lib\\site-packages\\tensorflow\\python\\eager\\polymorphic_function\\atomic_function.py:252\u001b[0m, in \u001b[0;36mAtomicFunction.__call__\u001b[1;34m(self, *args)\u001b[0m\n\u001b[0;32m    250\u001b[0m \u001b[39mwith\u001b[39;00m record\u001b[39m.\u001b[39mstop_recording():\n\u001b[0;32m    251\u001b[0m   \u001b[39mif\u001b[39;00m \u001b[39mself\u001b[39m\u001b[39m.\u001b[39m_bound_context\u001b[39m.\u001b[39mexecuting_eagerly():\n\u001b[1;32m--> 252\u001b[0m     outputs \u001b[39m=\u001b[39m \u001b[39mself\u001b[39;49m\u001b[39m.\u001b[39;49m_bound_context\u001b[39m.\u001b[39;49mcall_function(\n\u001b[0;32m    253\u001b[0m         \u001b[39mself\u001b[39;49m\u001b[39m.\u001b[39;49mname,\n\u001b[0;32m    254\u001b[0m         \u001b[39mlist\u001b[39;49m(args),\n\u001b[0;32m    255\u001b[0m         \u001b[39mlen\u001b[39;49m(\u001b[39mself\u001b[39;49m\u001b[39m.\u001b[39;49mfunction_type\u001b[39m.\u001b[39;49mflat_outputs),\n\u001b[0;32m    256\u001b[0m     )\n\u001b[0;32m    257\u001b[0m   \u001b[39melse\u001b[39;00m:\n\u001b[0;32m    258\u001b[0m     outputs \u001b[39m=\u001b[39m make_call_op_in_graph(\n\u001b[0;32m    259\u001b[0m         \u001b[39mself\u001b[39m,\n\u001b[0;32m    260\u001b[0m         \u001b[39mlist\u001b[39m(args),\n\u001b[0;32m    261\u001b[0m         \u001b[39mself\u001b[39m\u001b[39m.\u001b[39m_bound_context\u001b[39m.\u001b[39mfunction_call_options\u001b[39m.\u001b[39mas_attrs(),\n\u001b[0;32m    262\u001b[0m     )\n",
      "File \u001b[1;32mc:\\Users\\stefa\\AppData\\Local\\Programs\\Python\\Python311\\Lib\\site-packages\\tensorflow\\python\\eager\\context.py:1479\u001b[0m, in \u001b[0;36mContext.call_function\u001b[1;34m(self, name, tensor_inputs, num_outputs)\u001b[0m\n\u001b[0;32m   1477\u001b[0m cancellation_context \u001b[39m=\u001b[39m cancellation\u001b[39m.\u001b[39mcontext()\n\u001b[0;32m   1478\u001b[0m \u001b[39mif\u001b[39;00m cancellation_context \u001b[39mis\u001b[39;00m \u001b[39mNone\u001b[39;00m:\n\u001b[1;32m-> 1479\u001b[0m   outputs \u001b[39m=\u001b[39m execute\u001b[39m.\u001b[39;49mexecute(\n\u001b[0;32m   1480\u001b[0m       name\u001b[39m.\u001b[39;49mdecode(\u001b[39m\"\u001b[39;49m\u001b[39mutf-8\u001b[39;49m\u001b[39m\"\u001b[39;49m),\n\u001b[0;32m   1481\u001b[0m       num_outputs\u001b[39m=\u001b[39;49mnum_outputs,\n\u001b[0;32m   1482\u001b[0m       inputs\u001b[39m=\u001b[39;49mtensor_inputs,\n\u001b[0;32m   1483\u001b[0m       attrs\u001b[39m=\u001b[39;49mattrs,\n\u001b[0;32m   1484\u001b[0m       ctx\u001b[39m=\u001b[39;49m\u001b[39mself\u001b[39;49m,\n\u001b[0;32m   1485\u001b[0m   )\n\u001b[0;32m   1486\u001b[0m \u001b[39melse\u001b[39;00m:\n\u001b[0;32m   1487\u001b[0m   outputs \u001b[39m=\u001b[39m execute\u001b[39m.\u001b[39mexecute_with_cancellation(\n\u001b[0;32m   1488\u001b[0m       name\u001b[39m.\u001b[39mdecode(\u001b[39m\"\u001b[39m\u001b[39mutf-8\u001b[39m\u001b[39m\"\u001b[39m),\n\u001b[0;32m   1489\u001b[0m       num_outputs\u001b[39m=\u001b[39mnum_outputs,\n\u001b[1;32m   (...)\u001b[0m\n\u001b[0;32m   1493\u001b[0m       cancellation_manager\u001b[39m=\u001b[39mcancellation_context,\n\u001b[0;32m   1494\u001b[0m   )\n",
      "File \u001b[1;32mc:\\Users\\stefa\\AppData\\Local\\Programs\\Python\\Python311\\Lib\\site-packages\\tensorflow\\python\\eager\\execute.py:60\u001b[0m, in \u001b[0;36mquick_execute\u001b[1;34m(op_name, num_outputs, inputs, attrs, ctx, name)\u001b[0m\n\u001b[0;32m     53\u001b[0m   \u001b[39m# Convert any objects of type core_types.Tensor to Tensor.\u001b[39;00m\n\u001b[0;32m     54\u001b[0m   inputs \u001b[39m=\u001b[39m [\n\u001b[0;32m     55\u001b[0m       tensor_conversion_registry\u001b[39m.\u001b[39mconvert(t)\n\u001b[0;32m     56\u001b[0m       \u001b[39mif\u001b[39;00m \u001b[39misinstance\u001b[39m(t, core_types\u001b[39m.\u001b[39mTensor)\n\u001b[0;32m     57\u001b[0m       \u001b[39melse\u001b[39;00m t\n\u001b[0;32m     58\u001b[0m       \u001b[39mfor\u001b[39;00m t \u001b[39min\u001b[39;00m inputs\n\u001b[0;32m     59\u001b[0m   ]\n\u001b[1;32m---> 60\u001b[0m   tensors \u001b[39m=\u001b[39m pywrap_tfe\u001b[39m.\u001b[39;49mTFE_Py_Execute(ctx\u001b[39m.\u001b[39;49m_handle, device_name, op_name,\n\u001b[0;32m     61\u001b[0m                                       inputs, attrs, num_outputs)\n\u001b[0;32m     62\u001b[0m \u001b[39mexcept\u001b[39;00m core\u001b[39m.\u001b[39m_NotOkStatusException \u001b[39mas\u001b[39;00m e:\n\u001b[0;32m     63\u001b[0m   \u001b[39mif\u001b[39;00m name \u001b[39mis\u001b[39;00m \u001b[39mnot\u001b[39;00m \u001b[39mNone\u001b[39;00m:\n",
      "\u001b[1;31mKeyboardInterrupt\u001b[0m: "
     ]
    }
   ],
   "source": [
    "# Load stock prediction synthetic database\n",
    "synthetic_series = \"synthetic1000\"\n",
    "synthetic_date = \"2016-04-03\"\n",
    "df_init_mu = pd.read_csv(f'{synthetic_series}\\{synthetic_date}\\mu', header = None, names = ['mu'])\n",
    "\n",
    "\n",
    "# Get Training Targets\n",
    "train_targets=[]\n",
    "for n, portfolio in enumerate(training_portfolios):\n",
    "\n",
    "    # MVO Input Parameters\n",
    "    n = len(portfolio[0])\n",
    "    mu_vector = portfolio[0]\n",
    "    Q_array = portfolio[1]\n",
    "\n",
    "    # Call Optimizer\n",
    "    target=max_portfolio_return(n, mu_vector, Q_array, gamma = 1)\n",
    "    \n",
    "    # Store targets\n",
    "    train_targets.append(target)\n",
    "train_targets=np.array(train_targets)\n",
    "\n",
    "# Get Testing Targets\n",
    "test_targets = []\n",
    "for n, portfolio in enumerate(testing_portfolios):\n",
    "\n",
    "    # MVO Input Parameters\n",
    "    n = len(portfolio[0])\n",
    "    mu_vector = portfolio[0]\n",
    "    Q_array = portfolio[1]\n",
    "\n",
    "    # Call Optimizer\n",
    "    target=max_portfolio_return(n, mu_vector, Q_array, gamma = 1)\n",
    "    \n",
    "    # Store targets\n",
    "    test_targets.append(target)\n",
    "test_targets=np.array(test_targets)\n",
    "    \n",
    "\n",
    "\n",
    "\n",
    "# Linearize Training Data\n",
    "df_train=[]\n",
    "for portfolio in training_portfolios:\n",
    "    input = np.append(portfolio[0],portfolio[1].flatten())\n",
    "    df_train.append(input)\n",
    "df_train=np.array(df_train)\n",
    "\n",
    "# Linearize Testing Data\n",
    "df_test=[]\n",
    "for portfolio in testing_portfolios:\n",
    "    input = np.append(portfolio[0],portfolio[1].flatten())\n",
    "    df_test.append(input)\n",
    "df_test=np.array(df_test)\n",
    "\n",
    "\n",
    "# Train ANN\n",
    "         \n",
    "# Store Results\n",
    "model_history=[]\n",
    "model_predictions=[]\n",
    "\n",
    "# Call Model\n",
    "input_shape = df_train.shape[1]\n",
    "model_ANN = get_ann_model(input_shape)\n",
    "\n",
    "print('-----Training RNN Model-----')\n",
    "rnn_history = model_ANN.fit(df_train, train_targets,  \n",
    "                            epochs=EPOCH, batch_size=BATCH_SIZE) \n",
    "                            #callbacks=[lr, es,mc_rnn])      # Can put callbacks in later"
   ]
  }
 ],
 "metadata": {
  "kernelspec": {
   "display_name": "Python 3",
   "language": "python",
   "name": "python3"
  },
  "language_info": {
   "codemirror_mode": {
    "name": "ipython",
    "version": 3
   },
   "file_extension": ".py",
   "mimetype": "text/x-python",
   "name": "python",
   "nbconvert_exporter": "python",
   "pygments_lexer": "ipython3",
   "version": "3.11.4"
  }
 },
 "nbformat": 4,
 "nbformat_minor": 2
}
